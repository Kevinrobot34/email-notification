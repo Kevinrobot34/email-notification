{
 "cells": [
  {
   "cell_type": "markdown",
   "metadata": {},
   "source": [
    "### ACSpublicationsをscrapingする\n",
    "\n",
    "#### 必要なもの\n",
    "* selenium\n",
    " * 普通にネットサーフィンするように、ページの遷移・文字の入力・クリックなどができるようになるライブラリ\n",
    " * webdriverをダウンロード・指定する必要あり\n",
    "  * chrome (現在使用中)\n",
    "  * PhantomJS (そのうち対応予定)\n",
    "  * Safari (くまが追加。Webdriver不要)\n",
    "* Beautiful Soup\n",
    " * HTMLの解析に使うライブラリ\n",
    "  * そのうち、必要な論文のリンクの取得などに使う予定\n",
    "* SMTPLIB\n",
    " * インストール時に最初から入ってるから何もしなくてもいい\n",
    "  * ただしGMailはセキュリティの理由でうまく送れなかった\n",
    "  * Oauth2で回避可能だがこっちのほうはいろいろ勉強しないといけない"
   ]
  },
  {
   "cell_type": "code",
   "execution_count": 1,
   "metadata": {
    "collapsed": true
   },
   "outputs": [],
   "source": [
    "from selenium import webdriver\n",
    "from selenium.webdriver.common.keys import Keys\n",
    "from selenium.webdriver.support.select import Select\n",
    "from selenium.webdriver.support.ui import WebDriverWait\n",
    "from selenium.webdriver.support import expected_conditions as ec\n",
    "from selenium.webdriver.common.by import By\n",
    "from selenium.common.exceptions import TimeoutException\n",
    "\n",
    "import smtplib\n",
    "from email.mime.text import MIMEText\n",
    "from email.utils import formatdate\n",
    "\n",
    "#from bs4 import BeautifulSoup"
   ]
  },
  {
   "cell_type": "code",
   "execution_count": 2,
   "metadata": {},
   "outputs": [],
   "source": [
    "# Init the email\n",
    "sender_email = 'analokmayc@yandex.ru'\n",
    "receiver_email = 'khirosha-ioshihara@g.ecc.u-tokyo.ac.jp'\n",
    "bcc_email = 'receiver2@test.net'\n",
    "subject = 'MajiMail'\n",
    "body = 'Absolutely Academic Email.'\n",
    "\n",
    "def create_msg(sender, receiver, bcc, subject, body):\n",
    "    msg = MIMEText(body)\n",
    "    msg['Subject'] = subject\n",
    "    msg['From'] = sender\n",
    "    msg['To'] = receiver\n",
    "    msg['Bcc'] = bcc\n",
    "    msg['Date'] = formatdate()\n",
    "    return msg"
   ]
  },
  {
   "cell_type": "code",
   "execution_count": 3,
   "metadata": {
    "collapsed": true
   },
   "outputs": [],
   "source": [
    "# ChromeのDownloadディレクトリをcurrent_dir/dowonloadにして\n",
    "# webdriverとして設定する関数\n",
    "## input  : -\n",
    "## output : webdriver\n",
    "def init_browser(browser_name):\n",
    "    if browser_name == 'Chrome':\n",
    "        # Set DOWNLOAD_DIR of \"\"Chrome\"\"\n",
    "        #options = webdriver.ChromeOptions()\n",
    "        #options.add_experimental_option(\"prefs\", {\"download.default_directory\": DOWNLOAD_DIR})\n",
    "        #browser = webdriver.Chrome(chrome_options=options)\n",
    "        \n",
    "        browser = webdriver.Chrome()\n",
    "    elif browser_name == 'PhantomJS':\n",
    "        browser = webdriver.PhantomJS('phantomjs')\n",
    "    elif browser_name == 'Safari': # MACerはこっちで\n",
    "        browser = webdriver.Safari()\n",
    "    else:\n",
    "        print('You must choose browser_name from {}'.format(['Chrome', 'PhantomJS']))\n",
    "    \n",
    "    return browser;"
   ]
  },
  {
   "cell_type": "code",
   "execution_count": 4,
   "metadata": {
    "collapsed": true
   },
   "outputs": [],
   "source": [
    "target_url = 'http://pubs.acs.org/search/advanced'"
   ]
  },
  {
   "cell_type": "code",
   "execution_count": 5,
   "metadata": {},
   "outputs": [],
   "source": [
    "# init a browser\n",
    "browser = init_browser('Safari')\n",
    "# Open target\n",
    "browser.get(target_url)"
   ]
  },
  {
   "cell_type": "code",
   "execution_count": 6,
   "metadata": {},
   "outputs": [],
   "source": [
    "keyword_window_xpath = '//*[@id=\"advSearch_keyw_for_2\"]'\n",
    "keyword_window = browser.find_element_by_xpath(keyword_window_xpath) # get an element of search-window\n",
    "keyword_window.clear() # clear the search-window\n",
    "keyword_window.send_keys('test') # set company_id in the search window"
   ]
  },
  {
   "cell_type": "code",
   "execution_count": 7,
   "metadata": {},
   "outputs": [],
   "source": [
    "#cb_asap_xpath = '//*[@id=\"column2wrapper\"]/div[2]/div/label'\n",
    "cb_asap = browser.find_element_by_id('aopOnly') # get an element of search-window\n",
    "cb_asap.click()"
   ]
  },
  {
   "cell_type": "code",
   "execution_count": 8,
   "metadata": {},
   "outputs": [],
   "source": [
    "modify_selection_xpath = '//*[@id=\"column1wrapper\"]/div[1]/div[1]/div/div[1]/a'\n",
    "modify_selection = browser.find_element_by_xpath(modify_selection_xpath) # get an element of search-window\n",
    "modify_selection.click()"
   ]
  },
  {
   "cell_type": "code",
   "execution_count": 9,
   "metadata": {
    "collapsed": true
   },
   "outputs": [],
   "source": [
    "journal_id_list = {'pub_352060264', 'pub_408346032', 'pub_40001010', 'pub_40026043'}\n",
    "for journal_id in journal_id_list:\n",
    "    journal = browser.find_element_by_id(journal_id) # get an element of search-window\n",
    "    journal.click()"
   ]
  },
  {
   "cell_type": "code",
   "execution_count": 10,
   "metadata": {},
   "outputs": [],
   "source": [
    "update_id = 'save'\n",
    "browser.find_element_by_id(update_id).click()"
   ]
  },
  {
   "cell_type": "code",
   "execution_count": 11,
   "metadata": {
    "collapsed": true
   },
   "outputs": [],
   "source": [
    "search_xpath = '//*[@id=\"submitPubSearchButton\"]'\n",
    "browser.find_element_by_xpath(search_xpath).click()"
   ]
  },
  {
   "cell_type": "code",
   "execution_count": 12,
   "metadata": {},
   "outputs": [],
   "source": [
    "# Close the browser\n",
    "current_url = browser.current_url\n",
    "browser.quit()"
   ]
  },
  {
   "cell_type": "code",
   "execution_count": null,
   "metadata": {},
   "outputs": [],
   "source": [
    "# メール送るぞ\n",
    "body += 'This is ASAP papers \\n' + current_url\n",
    "msg = create_msg(sender_email, receiver_email, bcc_email, subject, body)\n",
    "def send_email(msg):\n",
    "    print('Enter your password to ' + sender_email)\n",
    "    password = input()\n",
    "    smtpobj = smtplib.SMTP_SSL('smtp.yandex.com', 465) # Yandex\n",
    "    #smtpobj = smtplib.SMTP_SSL('smtp.gmail.com', 465) # Gmail\n",
    "    #smtpobj.starttls()\n",
    "    smtpobj.login(sender_email, password)\n",
    "    smtpobj.sendmail(sender_email, receiver_email, msg.as_string())\n",
    "    smtpobj.close()\n",
    "send_email(msg)"
   ]
  },
  {
   "cell_type": "code",
   "execution_count": null,
   "metadata": {
    "collapsed": true
   },
   "outputs": [],
   "source": []
  }
 ],
 "metadata": {
  "kernelspec": {
   "display_name": "Python 3",
   "language": "python",
   "name": "python3"
  },
  "language_info": {
   "codemirror_mode": {
    "name": "ipython",
    "version": 3
   },
   "file_extension": ".py",
   "mimetype": "text/x-python",
   "name": "python",
   "nbconvert_exporter": "python",
   "pygments_lexer": "ipython3",
   "version": "3.6.2"
  }
 },
 "nbformat": 4,
 "nbformat_minor": 2
}
